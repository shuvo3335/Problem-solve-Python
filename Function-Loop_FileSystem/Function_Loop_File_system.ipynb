{
 "cells": [
  {
   "cell_type": "code",
   "execution_count": 1,
   "id": "cf1dbebb-961d-4a8b-b52a-01d8f93d2826",
   "metadata": {},
   "outputs": [
    {
     "name": "stdin",
     "output_type": "stream",
     "text": [
      "Enter your name:  Nayem Faisal\n"
     ]
    },
    {
     "data": {
      "text/plain": [
       "'Nayem Faisal'"
      ]
     },
     "execution_count": 1,
     "metadata": {},
     "output_type": "execute_result"
    }
   ],
   "source": [
    "student_name = input(\"Enter your name: \")\n",
    "student_name"
   ]
  },
  {
   "cell_type": "markdown",
   "id": "e213d1fc-7c39-4ed9-9675-0b0ced4d4c7d",
   "metadata": {},
   "source": [
    "### Greet the User"
   ]
  },
  {
   "cell_type": "code",
   "execution_count": 11,
   "id": "3b8a2633-4864-430d-ac30-0e360e3e5419",
   "metadata": {},
   "outputs": [
    {
     "name": "stdout",
     "output_type": "stream",
     "text": [
      "Testing greet_user function...\n"
     ]
    },
    {
     "name": "stdin",
     "output_type": "stream",
     "text": [
      "Please enter your name:  Faisal\n"
     ]
    },
    {
     "name": "stdout",
     "output_type": "stream",
     "text": [
      "Hello, Faisal! Welcome to the program.\n"
     ]
    }
   ],
   "source": [
    "# Your code here\n",
    "def greet_user():\n",
    "    \"\"\"\n",
    "    This function prints a greeting message to the user.\n",
    "    \"\"\"\n",
    "    name = input(\"Please enter your name: \")\n",
    "    print(f\"Hello, {name}! Welcome to the program.\")\n",
    "\n",
    "# Test function. \n",
    "if __name__ == \"__main__\":\n",
    "    print(\"Testing greet_user function...\")\n",
    "    greet_user()"
   ]
  },
  {
   "cell_type": "markdown",
   "id": "2c2c22bd-5951-43c5-ad04-580926cddf0c",
   "metadata": {},
   "source": [
    "### Area Calculator"
   ]
  },
  {
   "cell_type": "code",
   "execution_count": 13,
   "id": "2eb1a802-dc3c-4a88-a62e-96891b508521",
   "metadata": {},
   "outputs": [
    {
     "name": "stdout",
     "output_type": "stream",
     "text": [
      "60\n"
     ]
    }
   ],
   "source": [
    "# Your code here\n",
    "def calculate_area(length, width):\n",
    "    #leangth = int(input(\"enter leangth: \"))\n",
    "    #width = int(input(\"enter width: \"))\n",
    "    area = length * width\n",
    "    return area\n",
    "\n",
    "# Test function. Don't modify this.\n",
    "if __name__ == \"__main__\":\n",
    "    area = calculate_area(15, 4) \n",
    "    print(area) # Expected output: 60"
   ]
  },
  {
   "cell_type": "markdown",
   "id": "cf07178d-2a7e-4195-ac62-d7efe9ef4664",
   "metadata": {},
   "source": [
    "### Even or Odd Checker"
   ]
  },
  {
   "cell_type": "code",
   "execution_count": 23,
   "id": "3b7418f5-1d33-4925-9c0f-5ae82cdcc3ea",
   "metadata": {},
   "outputs": [
    {
     "name": "stdin",
     "output_type": "stream",
     "text": [
      "enter num:  3324\n"
     ]
    },
    {
     "name": "stdout",
     "output_type": "stream",
     "text": [
      "3324 is an even number\n",
      "None\n"
     ]
    }
   ],
   "source": [
    "def check_even_odd(number):\n",
    "    if (number % 2 == 0):\n",
    "        print(f\"{number} is an even number\")\n",
    "    else:\n",
    "        print(f\"{number} is a odd number\")\n",
    "        \n",
    "number = int(input(\"enter num: \"))\n",
    "final_result = check_even_odd(number)\n",
    "print(final_result)\n"
   ]
  },
  {
   "cell_type": "code",
   "execution_count": 24,
   "id": "eb5fda31-a227-4d5a-8243-cc1cf820a95a",
   "metadata": {},
   "outputs": [
    {
     "name": "stdin",
     "output_type": "stream",
     "text": [
      "enter num:  34545\n"
     ]
    },
    {
     "name": "stdout",
     "output_type": "stream",
     "text": [
      "34545 is a odd number\n"
     ]
    }
   ],
   "source": [
    "def check_even_odd(number):\n",
    "    if (number % 2 == 0):\n",
    "        print(f\"{number} is an even number\")\n",
    "    else:\n",
    "        print(f\"{number} is a odd number\")\n",
    "        \n",
    "number = int(input(\"enter num: \"))\n",
    "check_even_odd(number)"
   ]
  },
  {
   "cell_type": "code",
   "execution_count": 26,
   "id": "5bc863b8-6f7a-4064-a568-fef8d1d2b52b",
   "metadata": {},
   "outputs": [
    {
     "name": "stdin",
     "output_type": "stream",
     "text": [
      "enter ur num:  4\n"
     ]
    },
    {
     "name": "stdout",
     "output_type": "stream",
     "text": [
      "4 x 1 = 4\n",
      "4 x 2 = 8\n",
      "4 x 3 = 12\n",
      "4 x 4 = 16\n",
      "4 x 5 = 20\n",
      "4 x 6 = 24\n",
      "4 x 7 = 28\n",
      "4 x 8 = 32\n",
      "4 x 9 = 36\n",
      "4 x 10 = 40\n"
     ]
    }
   ],
   "source": [
    "# Your code here\n",
    "def print_table(n):\n",
    "    for item in range (1,11,1):\n",
    "        print(f\"{n} x {item} = {n*item}\")\n",
    "        \n",
    "\n",
    "# Test function. Don't modify this.\n",
    "if __name__ == \"__main__\":\n",
    "    n = (int(input(\"enter ur num: \")))\n",
    "    print_table(n) \n",
    "    \"\"\"\n",
    "    Expected output: \n",
    "    10 x 1 = 10\n",
    "    10 x 2 = 20\n",
    "    ...\n",
    "    10 x 10 = 100\n",
    "    \"\"\""
   ]
  },
  {
   "cell_type": "markdown",
   "id": "565e3a64-ab05-445f-b1ac-4a40464795f9",
   "metadata": {},
   "source": [
    "### Password strongness check\n",
    "#### is it contain uppercase, lowercase or digit"
   ]
  },
  {
   "cell_type": "code",
   "execution_count": 40,
   "id": "2a082f80-ca78-4e6a-b196-529896ddf2e5",
   "metadata": {},
   "outputs": [
    {
     "name": "stdin",
     "output_type": "stream",
     "text": [
      "enter ur password:  dfk32D\n"
     ]
    },
    {
     "name": "stdout",
     "output_type": "stream",
     "text": [
      "password ok\n"
     ]
    }
   ],
   "source": [
    "def uppercase_check(password):\n",
    "    for char in password:\n",
    "        if char.isupper():\n",
    "            return True\n",
    "    return False\n",
    "\n",
    "def lowercase_check(password):\n",
    "    for char in password:\n",
    "        if char.islower():\n",
    "            return True\n",
    "    return False\n",
    "\n",
    "def digit_check(password):\n",
    "    for char in password:\n",
    "        if char.isdigit():\n",
    "            return True\n",
    "    return False\n",
    "\n",
    "password = input(\"enter ur password: \")\n",
    "if uppercase_check(password) and lowercase_check(password) and digit_check(password):\n",
    "    print(\"password ok\")\n",
    "else:\n",
    "    print(\"password not ok\")"
   ]
  },
  {
   "cell_type": "code",
   "execution_count": 46,
   "id": "999cf586-e8d6-4548-9ba9-5d1ed27a48ac",
   "metadata": {},
   "outputs": [
    {
     "name": "stdin",
     "output_type": "stream",
     "text": [
      "enter password:  wdjn3J\n"
     ]
    },
    {
     "data": {
      "text/plain": [
       "True"
      ]
     },
     "execution_count": 46,
     "metadata": {},
     "output_type": "execute_result"
    }
   ],
   "source": [
    "def strong_pass_check(password):\n",
    "    is_uppercase = any(char.isupper() for char in password)\n",
    "    is_lowercase = any(char.islower() for char in password)\n",
    "    is_digit = any(char.isdigit() for char in password)\n",
    "\n",
    "    if(is_uppercase and is_lowercase and is_digit):\n",
    "        return True\n",
    "    else:\n",
    "        return \"not ok\"\n",
    "\n",
    "password = input(\"enter password: \")\n",
    "strong_pass_check(password)"
   ]
  },
  {
   "cell_type": "markdown",
   "id": "6fd89832-b3a9-4e86-a3e9-b57290184aff",
   "metadata": {},
   "source": [
    "### prime num check"
   ]
  },
  {
   "cell_type": "code",
   "execution_count": 55,
   "id": "a03a306f-6fe6-408b-aeb6-4a3a77b6f53c",
   "metadata": {},
   "outputs": [
    {
     "name": "stdin",
     "output_type": "stream",
     "text": [
      "enter num:  100\n"
     ]
    },
    {
     "name": "stdout",
     "output_type": "stream",
     "text": [
      "prime numbers from 1 to 100 are\n",
      "2 3 5 7 11 13 17 19 23 29 31 37 41 43 47 53 59 61 67 71 73 79 83 89 97 "
     ]
    }
   ],
   "source": [
    "def is_prime(number):\n",
    "    if number <= 1:\n",
    "        return False\n",
    "    for items in range (2,number,1):\n",
    "        if number % items == 0:\n",
    "            return False\n",
    "    return True\n",
    "\n",
    "def prime_num_limit(limit):\n",
    "    print(f\"prime numbers from 1 to {limit} are\")\n",
    "    for num in range (1, limit, 1):\n",
    "        if is_prime(num):\n",
    "            print(num, end = \" \")\n",
    "    \n",
    "\n",
    "num_limit = int(input(\"enter num: \"))\n",
    "prime_num_limit(num_limit)"
   ]
  },
  {
   "cell_type": "markdown",
   "id": "41a87362-cf41-43e2-b7af-184a10577bb0",
   "metadata": {},
   "source": [
    "###  Write to File: Shopping List"
   ]
  },
  {
   "cell_type": "code",
   "execution_count": 57,
   "id": "c8b37218-3ade-4853-a0aa-804b4eb572ab",
   "metadata": {},
   "outputs": [],
   "source": [
    "shopping_file = open('shopping_item.txt','w')\n",
    "shopping_file.write(\"Shopping List\")\n",
    "shopping_file.close()"
   ]
  },
  {
   "cell_type": "code",
   "execution_count": 58,
   "id": "22f4a5a3-14c8-44d7-8566-a787cf3e7f3b",
   "metadata": {},
   "outputs": [
    {
     "name": "stdout",
     "output_type": "stream",
     "text": [
      "Shopping List\n"
     ]
    }
   ],
   "source": [
    "shopping_file = open('shopping_item.txt','r')\n",
    "content = shopping_file.read()\n",
    "print(content)\n",
    "shopping_file.close()"
   ]
  },
  {
   "cell_type": "code",
   "execution_count": 64,
   "id": "443a3220-8dfe-46a4-89a9-b0ee8ab463a9",
   "metadata": {},
   "outputs": [
    {
     "name": "stdout",
     "output_type": "stream",
     "text": [
      "enter ur strings bellow: \n"
     ]
    },
    {
     "name": "stdin",
     "output_type": "stream",
     "text": [
      "enter string 1:  ami\n",
      "enter string 2:  cjnda\n",
      "enter string 3:  dkjjhdd\n",
      "enter string 4:  dkahc\n",
      "enter string 5:  uhdc\n"
     ]
    },
    {
     "name": "stdout",
     "output_type": "stream",
     "text": [
      "['ami', 'cjnda', 'dkjjhdd', 'dkahc', 'uhdc']\n"
     ]
    }
   ],
   "source": [
    "input_list = []\n",
    "print(\"enter ur strings bellow: \")\n",
    "for item in range(1,6,1):\n",
    "    string_input = input(f\"enter string {item}: \")\n",
    "    input_list.append(string_input)\n",
    "print(input_list)"
   ]
  },
  {
   "cell_type": "code",
   "execution_count": 65,
   "id": "1e125f1e-3efa-456c-a7c6-297be8707bb0",
   "metadata": {},
   "outputs": [
    {
     "ename": "TypeError",
     "evalue": "write() argument must be str, not list",
     "output_type": "error",
     "traceback": [
      "\u001b[31m---------------------------------------------------------------------------\u001b[39m",
      "\u001b[31mTypeError\u001b[39m                                 Traceback (most recent call last)",
      "\u001b[36mCell\u001b[39m\u001b[36m \u001b[39m\u001b[32mIn[65]\u001b[39m\u001b[32m, line 2\u001b[39m\n\u001b[32m      1\u001b[39m shopping_file = \u001b[38;5;28mopen\u001b[39m(\u001b[33m'\u001b[39m\u001b[33mshopping_List.txt\u001b[39m\u001b[33m'\u001b[39m,\u001b[33m'\u001b[39m\u001b[33mw\u001b[39m\u001b[33m'\u001b[39m)\n\u001b[32m----> \u001b[39m\u001b[32m2\u001b[39m \u001b[43mshopping_file\u001b[49m\u001b[43m.\u001b[49m\u001b[43mwrite\u001b[49m\u001b[43m(\u001b[49m\u001b[43minput_list\u001b[49m\u001b[43m)\u001b[49m\n\u001b[32m      3\u001b[39m shopping_file.close()\n",
      "\u001b[31mTypeError\u001b[39m: write() argument must be str, not list"
     ]
    }
   ],
   "source": [
    "shopping_file = open('shopping_List.txt','w')\n",
    "shopping_file.write(input_list)\n",
    "shopping_file.close()"
   ]
  },
  {
   "cell_type": "code",
   "execution_count": 67,
   "id": "b3e1d960-576a-4fbd-86e8-64a93c084244",
   "metadata": {},
   "outputs": [
    {
     "name": "stdout",
     "output_type": "stream",
     "text": [
      "enter ur strings bellow: \n"
     ]
    },
    {
     "name": "stdin",
     "output_type": "stream",
     "text": [
      "enter string 1:  bag\n",
      "enter string 2:  watch\n",
      "enter string 3:  shoe\n",
      "enter string 4:  phone\n",
      "enter string 5:  glass\n"
     ]
    },
    {
     "name": "stdout",
     "output_type": "stream",
     "text": [
      "['bag', 'watch', 'shoe', 'phone', 'glass']\n"
     ]
    }
   ],
   "source": [
    "input_list = []\n",
    "print(\"enter ur strings bellow: \")\n",
    "for item in range(1,6,1):\n",
    "    string_input = input(f\"enter string {item}: \")\n",
    "    input_list.append(string_input)\n",
    "print(input_list)\n",
    "\n",
    "shopping_file = open('shopping_List.txt','w')\n",
    "for items in input_list:\n",
    "    shopping_file.write(items + \"\\n\")\n",
    "shopping_file.close()"
   ]
  },
  {
   "cell_type": "code",
   "execution_count": 73,
   "id": "90f3bfda-482c-465b-b83f-df7ad7b6f49e",
   "metadata": {},
   "outputs": [
    {
     "name": "stdout",
     "output_type": "stream",
     "text": [
      "bag\n",
      "watch\n",
      "shoe\n",
      "phone\n",
      "glass\n",
      "\n",
      "5\n",
      "27\n"
     ]
    }
   ],
   "source": [
    "shopping_file = open('shopping_List.txt','r')\n",
    "content = shopping_file.read()\n",
    "print(content)\n",
    "word = content.split()\n",
    "count_word = len(word)\n",
    "print(count_word)\n",
    "char_count = len(content)\n",
    "print(char_count)\n",
    "shopping_file.close()"
   ]
  },
  {
   "cell_type": "markdown",
   "id": "1e2dd5bb-68f8-429f-9af6-4772c1610cc9",
   "metadata": {},
   "source": [
    "### Take input from user, store into Dictionary and write into File"
   ]
  },
  {
   "cell_type": "code",
   "execution_count": 83,
   "id": "7b0459a6-5f5c-4dce-b968-bc1f5698d3d0",
   "metadata": {},
   "outputs": [
    {
     "name": "stdin",
     "output_type": "stream",
     "text": [
      "Total number of student:  2\n",
      "student 1:  sdas\n",
      "mark of student1:  23\n",
      "student 2:  sddf\n",
      "mark of student2:  55\n"
     ]
    },
    {
     "name": "stdout",
     "output_type": "stream",
     "text": [
      "{'sdas': 23, 'sddf': 55}\n"
     ]
    }
   ],
   "source": [
    "number_of_student = int(input(\"Total number of student: \"))\n",
    "student_details = {}\n",
    "for students in range(1, number_of_student + 1):\n",
    "    name = input(f\"student {students}: \")\n",
    "    mark = int(input(f\"mark of student{students}: \"))\n",
    "    student_details[name] = mark\n",
    "print(student_details)\n",
    "student_file = open(\"grades.txt\",\"w\")\n",
    "for name, marks in student_details.items():\n",
    "        status = \"Pass\" if marks >= 40 else \"Fail\"\n",
    "        student_file.write(f\"{name}: {status}\\n\")\n",
    "student_file.close()"
   ]
  },
  {
   "cell_type": "code",
   "execution_count": null,
   "id": "3d88c08b-3bd3-4d6c-846e-777bdcb768c7",
   "metadata": {},
   "outputs": [],
   "source": []
  },
  {
   "cell_type": "code",
   "execution_count": null,
   "id": "1b7e0c04-2bb0-49ef-bad6-3cb9e812a053",
   "metadata": {},
   "outputs": [],
   "source": []
  }
 ],
 "metadata": {
  "kernelspec": {
   "display_name": "Python 3 (ipykernel)",
   "language": "python",
   "name": "python3"
  },
  "language_info": {
   "codemirror_mode": {
    "name": "ipython",
    "version": 3
   },
   "file_extension": ".py",
   "mimetype": "text/x-python",
   "name": "python",
   "nbconvert_exporter": "python",
   "pygments_lexer": "ipython3",
   "version": "3.13.3"
  }
 },
 "nbformat": 4,
 "nbformat_minor": 5
}
