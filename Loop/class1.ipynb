{
 "cells": [
  {
   "cell_type": "markdown",
   "id": "21f17211-b6b0-4137-abe4-f70e1c239e40",
   "metadata": {},
   "source": [
    "### varriable and input"
   ]
  },
  {
   "cell_type": "code",
   "execution_count": 1,
   "id": "88a9c975-793a-4ae9-aec1-f5384fa7ebea",
   "metadata": {},
   "outputs": [
    {
     "name": "stdin",
     "output_type": "stream",
     "text": [
      " 12\n"
     ]
    }
   ],
   "source": [
    "data_in = int(input())"
   ]
  },
  {
   "cell_type": "code",
   "execution_count": 3,
   "id": "5ab42ada-b688-4158-b225-d63bbcc837d1",
   "metadata": {},
   "outputs": [
    {
     "data": {
      "text/plain": [
       "int"
      ]
     },
     "execution_count": 3,
     "metadata": {},
     "output_type": "execute_result"
    }
   ],
   "source": [
    "type(data_in)"
   ]
  },
  {
   "cell_type": "code",
   "execution_count": 15,
   "id": "247ecd96-10ae-470d-b586-b4b0b783c933",
   "metadata": {},
   "outputs": [
    {
     "name": "stdin",
     "output_type": "stream",
     "text": [
      " 2 65\n"
     ]
    }
   ],
   "source": [
    "a,b = map(int, input().split())"
   ]
  },
  {
   "cell_type": "code",
   "execution_count": 16,
   "id": "99d32ef0-f117-4d8e-aa97-6b49ec7e101e",
   "metadata": {},
   "outputs": [
    {
     "data": {
      "text/plain": [
       "int"
      ]
     },
     "execution_count": 16,
     "metadata": {},
     "output_type": "execute_result"
    }
   ],
   "source": [
    "type(b)"
   ]
  },
  {
   "cell_type": "code",
   "execution_count": 18,
   "id": "3076b584-c97f-46f6-bab5-7777f6ce0b52",
   "metadata": {},
   "outputs": [
    {
     "data": {
      "text/plain": [
       "65"
      ]
     },
     "execution_count": 18,
     "metadata": {},
     "output_type": "execute_result"
    }
   ],
   "source": [
    "b"
   ]
  },
  {
   "cell_type": "markdown",
   "id": "bdee0e3c-720a-4301-b16e-975f348d074e",
   "metadata": {},
   "source": [
    "### Operator"
   ]
  },
  {
   "cell_type": "code",
   "execution_count": 20,
   "id": "36e28367-4a0f-4ec5-9a74-660c5ec61606",
   "metadata": {},
   "outputs": [
    {
     "ename": "SyntaxError",
     "evalue": "invalid syntax. Maybe you meant '==' or ':=' instead of '='? (430957564.py, line 4)",
     "output_type": "error",
     "traceback": [
      "  \u001b[36mCell\u001b[39m\u001b[36m \u001b[39m\u001b[32mIn[20]\u001b[39m\u001b[32m, line 4\u001b[39m\n\u001b[31m    \u001b[39m\u001b[31mnum3 = num1 + num2\u001b[39m\n    ^\n\u001b[31mSyntaxError\u001b[39m\u001b[31m:\u001b[39m invalid syntax. Maybe you meant '==' or ':=' instead of '='?\n"
     ]
    }
   ],
   "source": [
    "num1 = int(input())\n",
    "num2 = int(input())\n",
    "if(num1>num2){\n",
    "    num3 = num1 + num2\n",
    "    print(\"if condition result: \" num3)\n",
    "    print(num3)\n",
    "}else {num4 = num2 - num1\n",
    "print(\"else cond result: \" num4)}"
   ]
  },
  {
   "cell_type": "code",
   "execution_count": 23,
   "id": "dcd95ef8-b121-4ccb-beb7-dfb86ef626d7",
   "metadata": {},
   "outputs": [
    {
     "data": {
      "text/plain": [
       "25"
      ]
     },
     "execution_count": 23,
     "metadata": {},
     "output_type": "execute_result"
    }
   ],
   "source": [
    "5**2"
   ]
  },
  {
   "cell_type": "code",
   "execution_count": 14,
   "id": "1e3b84f8-66ec-4fa6-8e86-f9e359719d17",
   "metadata": {},
   "outputs": [
    {
     "data": {
      "text/plain": [
       "'ai'"
      ]
     },
     "execution_count": 14,
     "metadata": {},
     "output_type": "execute_result"
    }
   ],
   "source": [
    "string_slice = \"faisal\"\n",
    "string_slice[1:3]"
   ]
  },
  {
   "cell_type": "code",
   "execution_count": 28,
   "id": "de6ae36f-bb30-48b9-86c4-981bc25c1dae",
   "metadata": {},
   "outputs": [
    {
     "name": "stdout",
     "output_type": "stream",
     "text": [
      "rl\n"
     ]
    }
   ],
   "source": [
    "b = \"Hello, World!\"\n",
    "print(b[-4:-2])"
   ]
  },
  {
   "cell_type": "code",
   "execution_count": 29,
   "id": "ebc9e6be-760a-4472-89b5-885d0f907e9e",
   "metadata": {},
   "outputs": [
    {
     "data": {
      "text/plain": [
       "3.2545755"
      ]
     },
     "execution_count": 29,
     "metadata": {},
     "output_type": "execute_result"
    }
   ],
   "source": [
    "num=3.2545755\n",
    "num"
   ]
  },
  {
   "cell_type": "code",
   "execution_count": 32,
   "id": "c4ecb738-8c8b-4870-8580-9ff5a401059e",
   "metadata": {},
   "outputs": [
    {
     "name": "stdout",
     "output_type": "stream",
     "text": [
      "3.25\n"
     ]
    }
   ],
   "source": [
    "print(\"%0.2f\"%num)"
   ]
  },
  {
   "cell_type": "code",
   "execution_count": 56,
   "id": "bf5ea510-9344-4713-a282-c6912abb6168",
   "metadata": {},
   "outputs": [
    {
     "data": {
      "text/plain": [
       "['zulfiker', 'nayem', 'faisal']"
      ]
     },
     "execution_count": 56,
     "metadata": {},
     "output_type": "execute_result"
    }
   ],
   "source": [
    "string1 = \"zulfiker nayem faisal\"\n",
    "string1.split()\n"
   ]
  },
  {
   "cell_type": "code",
   "execution_count": 52,
   "id": "8253e0a8-1f2a-45f0-9433-65ebb8791bd1",
   "metadata": {},
   "outputs": [
    {
     "data": {
      "text/plain": [
       "'hey how are u?'"
      ]
     },
     "execution_count": 52,
     "metadata": {},
     "output_type": "execute_result"
    }
   ],
   "source": [
    "s1=\"hey\"\n",
    "s2=\"how\"\n",
    "s3=\"are u?\"\n",
    "\" \".join((s1, s2, s3))"
   ]
  },
  {
   "cell_type": "code",
   "execution_count": 53,
   "id": "95f1257b-b4b9-44c5-be58-c5eb17e20e2a",
   "metadata": {},
   "outputs": [
    {
     "data": {
      "text/plain": [
       "3"
      ]
     },
     "execution_count": 53,
     "metadata": {},
     "output_type": "execute_result"
    }
   ],
   "source": [
    "len(s1)"
   ]
  },
  {
   "cell_type": "markdown",
   "id": "700a18db-6689-4c2e-a767-4c63de796f89",
   "metadata": {},
   "source": [
    "\n",
    "### Data Structure"
   ]
  },
  {
   "cell_type": "code",
   "execution_count": 57,
   "id": "ec0d79a4-441d-4263-a726-252927ea0e8d",
   "metadata": {},
   "outputs": [
    {
     "data": {
      "text/plain": [
       "list"
      ]
     },
     "execution_count": 57,
     "metadata": {},
     "output_type": "execute_result"
    }
   ],
   "source": [
    "string1 = \"zulfiker nayem faisal\"\n",
    "temp=string1.split()\n",
    "type(temp)"
   ]
  },
  {
   "cell_type": "code",
   "execution_count": 70,
   "id": "a27ea8e1-7a7c-425a-ae22-3563fbfdd634",
   "metadata": {},
   "outputs": [
    {
     "data": {
      "text/plain": [
       "'ang'"
      ]
     },
     "execution_count": 70,
     "metadata": {},
     "output_type": "execute_result"
    }
   ],
   "source": [
    "list_data = ['mango','banana','guava']\n",
    "type(list_data)\n",
    "list_data[0][1:4]"
   ]
  },
  {
   "cell_type": "code",
   "execution_count": 68,
   "id": "c7ff2316-fa05-444b-b3fe-d34d749c1a78",
   "metadata": {},
   "outputs": [
    {
     "data": {
      "text/plain": [
       "'ang'"
      ]
     },
     "execution_count": 68,
     "metadata": {},
     "output_type": "execute_result"
    }
   ],
   "source": [
    "list_data = ['mango','banana','guava']\n",
    "temp=list_data[0]\n",
    "temp[1:4]"
   ]
  },
  {
   "cell_type": "code",
   "execution_count": 72,
   "id": "f7b11356-5249-4f31-a917-f22a818327a9",
   "metadata": {},
   "outputs": [
    {
     "data": {
      "text/plain": [
       "'nan'"
      ]
     },
     "execution_count": 72,
     "metadata": {},
     "output_type": "execute_result"
    }
   ],
   "source": [
    "list_data[1][2:-1]"
   ]
  },
  {
   "cell_type": "code",
   "execution_count": 73,
   "id": "47ecfdc7-c321-46b1-a212-3c92d4051c3b",
   "metadata": {},
   "outputs": [
    {
     "data": {
      "text/plain": [
       "['mango', 'banana', 'guava', 12]"
      ]
     },
     "execution_count": 73,
     "metadata": {},
     "output_type": "execute_result"
    }
   ],
   "source": [
    "list_data.append(12)\n",
    "list_data"
   ]
  },
  {
   "cell_type": "code",
   "execution_count": 78,
   "id": "3d9a7582-9f9f-42f4-b357-e228f2181fbd",
   "metadata": {},
   "outputs": [
    {
     "data": {
      "text/plain": [
       "['mango', 'banana', 'guava', 12, 'grapeapple', 'grape']"
      ]
     },
     "execution_count": 78,
     "metadata": {},
     "output_type": "execute_result"
    }
   ],
   "source": [
    "list_data.append('grape')\n",
    "list_data"
   ]
  },
  {
   "cell_type": "code",
   "execution_count": 79,
   "id": "6f900b34-314e-4d95-893e-1c82622b73b9",
   "metadata": {},
   "outputs": [],
   "source": [
    "list_data2 = ['vegetable','tea','rice']"
   ]
  },
  {
   "cell_type": "code",
   "execution_count": 81,
   "id": "e249e227-58b8-4678-85fa-0b0b2dc10440",
   "metadata": {},
   "outputs": [
    {
     "data": {
      "text/plain": [
       "['mango',\n",
       " 'banana',\n",
       " 'guava',\n",
       " 12,\n",
       " 'grapeapple',\n",
       " 'grape',\n",
       " 'vegetable',\n",
       " 'tea',\n",
       " 'rice']"
      ]
     },
     "execution_count": 81,
     "metadata": {},
     "output_type": "execute_result"
    }
   ],
   "source": [
    "list_merge = list_data + list_data2\n",
    "list_merge"
   ]
  },
  {
   "cell_type": "code",
   "execution_count": 83,
   "id": "74b3059d-6688-4c7b-ac8b-0bfc8a8301bf",
   "metadata": {},
   "outputs": [
    {
     "data": {
      "text/plain": [
       "['mango',\n",
       " 'banana',\n",
       " 'guava',\n",
       " 12,\n",
       " 'grapeapple',\n",
       " 'grape',\n",
       " 'watermelon',\n",
       " 'coconut',\n",
       " 'watermelon',\n",
       " 'coconut']"
      ]
     },
     "execution_count": 83,
     "metadata": {},
     "output_type": "execute_result"
    }
   ],
   "source": [
    "list_data +=['watermelon','coconut']\n",
    "list_data"
   ]
  },
  {
   "cell_type": "code",
   "execution_count": 85,
   "id": "bb390d3a-a0da-4b21-8cc3-db480908ab7b",
   "metadata": {},
   "outputs": [
    {
     "data": {
      "text/plain": [
       "['mango',\n",
       " 'banana',\n",
       " 'guava',\n",
       " 12,\n",
       " 'watermelon',\n",
       " 'coconut',\n",
       " 'watermelon',\n",
       " 'coconut']"
      ]
     },
     "execution_count": 85,
     "metadata": {},
     "output_type": "execute_result"
    }
   ],
   "source": [
    "del list_data[4]\n",
    "list_data"
   ]
  },
  {
   "cell_type": "code",
   "execution_count": 87,
   "id": "4aaaac2f-583d-4d62-a296-426824fadae8",
   "metadata": {},
   "outputs": [
    {
     "data": {
      "text/plain": [
       "['mango',\n",
       " 'banana',\n",
       " 'guava',\n",
       " 12,\n",
       " 'grape',\n",
       " 'watermelon',\n",
       " 'coconut',\n",
       " 'watermelon',\n",
       " 'coconut']"
      ]
     },
     "execution_count": 87,
     "metadata": {},
     "output_type": "execute_result"
    }
   ],
   "source": [
    "list_data.insert(4,'grape')\n",
    "list_data"
   ]
  },
  {
   "cell_type": "code",
   "execution_count": null,
   "id": "3340717b-29b3-4ea3-93b4-0019a2840981",
   "metadata": {},
   "outputs": [],
   "source": []
  }
 ],
 "metadata": {
  "kernelspec": {
   "display_name": "Python 3 (ipykernel)",
   "language": "python",
   "name": "python3"
  },
  "language_info": {
   "codemirror_mode": {
    "name": "ipython",
    "version": 3
   },
   "file_extension": ".py",
   "mimetype": "text/x-python",
   "name": "python",
   "nbconvert_exporter": "python",
   "pygments_lexer": "ipython3",
   "version": "3.13.3"
  }
 },
 "nbformat": 4,
 "nbformat_minor": 5
}
